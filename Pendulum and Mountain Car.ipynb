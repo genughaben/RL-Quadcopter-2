{
 "cells": [
  {
   "cell_type": "code",
   "execution_count": 1,
   "metadata": {},
   "outputs": [
    {
     "name": "stderr",
     "output_type": "stream",
     "text": [
      "Using TensorFlow backend.\n"
     ]
    }
   ],
   "source": [
    "%load_ext autoreload\n",
    "%autoreload 2\n",
    "\n",
    "import sys\n",
    "import pandas as pd\n",
    "import numpy as np\n",
    "import gym\n",
    "from agents.ddpg_agent import DDPG\n",
    "\n",
    "import matplotlib.pyplot as plt\n",
    "%matplotlib inline"
   ]
  },
  {
   "cell_type": "code",
   "execution_count": 4,
   "metadata": {},
   "outputs": [
    {
     "name": "stdout",
     "output_type": "stream",
     "text": [
      "\u001b[33mWARN: gym.spaces.Box autodetected dtype as <class 'numpy.float32'>. Please provide explicit dtype.\u001b[0m\n",
      "\u001b[33mWARN: gym.spaces.Box autodetected dtype as <class 'numpy.float32'>. Please provide explicit dtype.\u001b[0m\n",
      "observations: (3,)\n",
      "Episode =   99, score = -1549.705, best = -719.7785"
     ]
    }
   ],
   "source": [
    "# PENDULUM\n",
    "\n",
    "# This is nice if you interupt the learning while rendering.\n",
    "# This will automatically close the previous session.\n",
    "try:\n",
    "    agent.task.close()\n",
    "except:\n",
    "    pass\n",
    "\n",
    "\n",
    "scores = []\n",
    "\n",
    "env = gym.make('Pendulum-v0')\n",
    "agent = DDPG(env, gym=True) \n",
    "\n",
    "num_episodes = 100\n",
    "\n",
    "agent.noise.sigma = 0.1\n",
    "agent.noise.theta = 0.005\n",
    "state = agent.task.reset()\n",
    "\n",
    "best_score = -np.inf\n",
    "step_count = 0\n",
    "\n",
    "for i_episode in range(num_episodes):\n",
    "    # Learning\n",
    "    state = agent.reset_episode() # start a new episode\n",
    "    score = 0.0\n",
    "    for _ in range(500):\n",
    "        step_count += 1\n",
    "        action = agent.act(state) \n",
    "        next_state, reward, done, _ = agent.task.step(action)\n",
    "        score += reward\n",
    "        agent.step(action, reward, next_state, done)\n",
    "        state = next_state\n",
    "#        if i_episode % 50 == 0:\n",
    "#             agent.task.render()\n",
    "        if done:\n",
    "            break\n",
    "\n",
    "    scores.append(score)\n",
    "    if score > best_score:\n",
    "        best_score = agent.score\n",
    "    print(\"\\rEpisode = {:4d}, score = {:.3f}, best = {:.3f}\".format(\n",
    "        i_episode, score, best_score), end=\"\")\n",
    "    sys.stdout.flush()\n",
    "env.close()"
   ]
  },
  {
   "cell_type": "code",
   "execution_count": null,
   "metadata": {},
   "outputs": [],
   "source": []
  },
  {
   "cell_type": "code",
   "execution_count": null,
   "metadata": {},
   "outputs": [],
   "source": [
    "# MOUNTAIN CAR\n",
    "# This is nice if you interupt the learning while rendering.\n",
    "# This will automatically close the previous session.\n",
    "try:\n",
    "    agent.task.close()\n",
    "except:\n",
    "    pass\n",
    "\n",
    "\n",
    "env = gym.make('MountainCarContinuous-v0')\n",
    "agent = DDPG(env, gym=True) \n",
    "agent.noise.sigma = 0.2\n",
    "agent.noise.theta = 0.05\n",
    "print(\"observations:\",env.observation_space.shape)\n",
    "state = agent.task.reset()\n",
    "\n",
    "scores = []\n",
    "best_score = -np.inf\n",
    "best_traj = []\n",
    "step_count = 0\n",
    "for i_episode in range(1000):\n",
    "    if i_episode %1 == 0:\n",
    "        state = agent.reset_episode() # start a new episode\n",
    "        score = 0.0\n",
    "        for _ in range(300):\n",
    "            step_count += 1\n",
    "            action = agent.act(state) \n",
    "            state, reward, done, _ = env.step(action)\n",
    "            score += reward\n",
    "            if i_episode % 50 == 0:\n",
    "                env.render()\n",
    "            if done:\n",
    "                break\n",
    "\n",
    "    scores.append(score)\n",
    "    if score > best_score:\n",
    "        best_score = agent.score\n",
    "    print(\"\\rEpisode = {:4d}, score = {:.3f}, best = {:.3f}\".format(\n",
    "        i_episode, score, best_score), end=\"\")\n",
    "\n",
    "    if score > 95:\n",
    "        break\n",
    "    sys.stdout.flush()\n",
    "env.close()"
   ]
  },
  {
   "cell_type": "code",
   "execution_count": null,
   "metadata": {},
   "outputs": [],
   "source": [
    "smooth = 21\n",
    "plt.figure(figsize=(15,5))\n",
    "plt.plot(np.convolve(scores, np.ones(smooth)/smooth)[(smooth-1)//2:-smooth], color='xkcd:azure')\n",
    "plt.plot(scores, alpha=0.5, color='xkcd:cornflower')\n",
    "plt.xlabel(\"Episode\")\n",
    "plt.ylabel('Total Reward')\n",
    "plt.xlim(0, len(scores))\n",
    "plt.grid(True)"
   ]
  },
  {
   "cell_type": "code",
   "execution_count": null,
   "metadata": {},
   "outputs": [],
   "source": [
    "print(np.shape(agent.actor_local.model.get_weights()))\n",
    "print(np.shape(agent.critic_local.model.get_weights()))"
   ]
  },
  {
   "cell_type": "code",
   "execution_count": null,
   "metadata": {},
   "outputs": [],
   "source": [
    "env.close()"
   ]
  },
  {
   "cell_type": "code",
   "execution_count": null,
   "metadata": {},
   "outputs": [],
   "source": [
    "plt.plot(rewards)\n",
    "# plt.plot(np.cumsum(rewards[::-1])[::-1])\n",
    "plt.plot(Q)\n",
    "plt.show()"
   ]
  },
  {
   "cell_type": "code",
   "execution_count": null,
   "metadata": {},
   "outputs": [],
   "source": [
    "\n",
    "actions = np.linspace(-1,1, 100).reshape(-1,1)\n",
    "states = np.ones_like([actions,2])*[-0.9, 0.1]\n",
    "Q = agent.critic_target.model.predict_on_batch([[states], actions])\n",
    "plt.plot(actions, Q)\n",
    "plt.show()"
   ]
  },
  {
   "cell_type": "code",
   "execution_count": null,
   "metadata": {},
   "outputs": [],
   "source": [
    "agent.critic_target.model.predict_on_batch([[state], [action]])"
   ]
  },
  {
   "cell_type": "code",
   "execution_count": null,
   "metadata": {},
   "outputs": [],
   "source": [
    "smooth = 21\n",
    "plt.figure(figsize=(15,5))\n",
    "plt.plot(np.convolve(score, np.ones(smooth)/smooth)[(smooth-1)//2:-smooth], color='xkcd:azure')\n",
    "plt.plot(score, alpha=0.5, color='xkcd:cornflower')\n",
    "plt.xlabel(\"Episode\")\n",
    "plt.ylabel('Total Reward')\n",
    "plt.xlim(0, len(score))\n",
    "plt.grid(True)\n",
    "plt.show()"
   ]
  }
 ],
 "metadata": {
  "kernelspec": {
   "display_name": "quadcop",
   "language": "python",
   "name": "quadcop"
  },
  "language_info": {
   "codemirror_mode": {
    "name": "ipython",
    "version": 3
   },
   "file_extension": ".py",
   "mimetype": "text/x-python",
   "name": "python",
   "nbconvert_exporter": "python",
   "pygments_lexer": "ipython3",
   "version": "3.6.5"
  }
 },
 "nbformat": 4,
 "nbformat_minor": 2
}
