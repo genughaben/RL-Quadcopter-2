{
 "cells": [
  {
   "cell_type": "markdown",
   "metadata": {},
   "source": [
    "# Project: Train a Quadcopter How to Fly\n",
    "\n",
    "Design an agent to fly a quadcopter, and then train it using a reinforcement learning algorithm of your choice! \n",
    "\n",
    "Try to apply the techniques you have learnt, but also feel free to come up with innovative ideas and test them."
   ]
  },
  {
   "cell_type": "markdown",
   "metadata": {},
   "source": [
    "## Instructions\n",
    "\n",
    "Take a look at the files in the directory to better understand the structure of the project. \n",
    "\n",
    "- `task.py`: Define your task (environment) in this file.\n",
    "- `agents/`: Folder containing reinforcement learning agents.\n",
    "    - `policy_search.py`: A sample agent has been provided here.\n",
    "    - `agent.py`: Develop your agent here.\n",
    "- `physics_sim.py`: This file contains the simulator for the quadcopter.  **DO NOT MODIFY THIS FILE**.\n",
    "\n",
    "For this project, you will define your own task in `task.py`.  Although we have provided a example task to get you started, you are encouraged to change it.  Later in this notebook, you will learn more about how to amend this file.\n",
    "\n",
    "You will also design a reinforcement learning agent in `agent.py` to complete your chosen task.  \n",
    "\n",
    "You are welcome to create any additional files to help you to organize your code.  For instance, you may find it useful to define a `model.py` file defining any needed neural network architectures.\n",
    "\n",
    "## Controlling the Quadcopter\n",
    "\n",
    "We provide a sample agent in the code cell below to show you how to use the sim to control the quadcopter.  This agent is even simpler than the sample agent that you'll examine (in `agents/policy_search.py`) later in this notebook!\n",
    "\n",
    "The agent controls the quadcopter by setting the revolutions per second on each of its four rotors.  The provided agent in the `Basic_Agent` class below always selects a random action for each of the four rotors.  These four speeds are returned by the `act` method as a list of four floating-point numbers.  \n",
    "\n",
    "For this project, the agent that you will implement in `agents/agent.py` will have a far more intelligent method for selecting actions!"
   ]
  },
  {
   "cell_type": "code",
   "execution_count": null,
   "metadata": {},
   "outputs": [],
   "source": [
    "# IMPORTS\n",
    "%load_ext autoreload\n",
    "%autoreload 2\n",
    "\n",
    "import csv, sys, random\n",
    "import numpy as np\n",
    "import pandas as pd\n",
    "import matplotlib.pyplot as plt\n",
    "%matplotlib inline\n",
    "from tasks.task import Task\n",
    "from tasks.takeoff import Takeoff\n",
    "from agents.basic_agent import Basic_Agent, Trivial_Takeoff_Agent\n",
    "from agents.policy_search import PolicySearch_Agent\n",
    "from agents.ddpg_agent import DDPG\n",
    "\n",
    "# log and plot helper\n",
    "import utility"
   ]
  },
  {
   "cell_type": "code",
   "execution_count": null,
   "metadata": {},
   "outputs": [],
   "source": [
    "### TRIVIAL TEST ###\n",
    "\n",
    "# Modify the values below to give the quadcopter a different starting position.\n",
    "\n",
    "runtime = 25.                                     # time limit of the episode\n",
    "init_pose = np.array([0., 0., 0., 0., 0., 0.])  # initial pose\n",
    "init_velocities = np.array([0., 0., 0.])         # initial velocities\n",
    "init_angle_velocities = np.array([0., 0., 0.])   # initial angle velocities\n",
    "target_pos = np.array([0.0, 0.0, 100.0])\n",
    "file_output = 'trivial_takeoff_data.txt'                    # file name for saved results\n",
    "\n",
    "# Setup\n",
    "task = Takeoff(init_pose, init_velocities, init_angle_velocities, runtime, target_pos)\n",
    "noise = 0\n",
    "speed = 425\n",
    "agent = Trivial_Takeoff_Agent(task, speed, noise)\n",
    "# Run the simulation, and save the results.\n",
    "results = utility.log_run(agent, file_output)\n",
    "utility.plot_run(results)"
   ]
  },
  {
   "cell_type": "markdown",
   "metadata": {},
   "source": [
    "Run the code cell below to have the agent select actions to control the quadcopter.  \n",
    "\n",
    "Feel free to change the provided values of `runtime`, `init_pose`, `init_velocities`, and `init_angle_velocities` below to change the starting conditions of the quadcopter.\n",
    "\n",
    "The `labels` list below annotates statistics that are saved while running the simulation.  All of this information is saved in a text file `data.txt` and stored in the dictionary `results`.  "
   ]
  },
  {
   "cell_type": "code",
   "execution_count": null,
   "metadata": {},
   "outputs": [],
   "source": [
    "### BASIC AGENT ###\n",
    "\n",
    "# Modify the values below to give the quadcopter a different starting position.\n",
    "\n",
    "runtime = 5.                                     # time limit of the episode\n",
    "init_pose = np.array([0., 0., 10., 0., 0., 0.])  # initial pose\n",
    "init_velocities = np.array([0., 0., 0.])         # initial velocities\n",
    "init_angle_velocities = np.array([0., 0., 0.])   # initial angle velocities\n",
    "target_pos = np.array([0.0, 0.0, 10.0])\n",
    "file_output = 'basic_agent_data.txt'                    # file name for saved results\n",
    "\n",
    "# Setup\n",
    "task = Task(init_pose, init_velocities, init_angle_velocities, runtime, target_pos)\n",
    "agent = Basic_Agent(task)\n",
    "# Run the simulation, and save the results.\n",
    "results = utility.log_run(agent, file_output)\n",
    "utility.plot_run(results)"
   ]
  },
  {
   "cell_type": "code",
   "execution_count": null,
   "metadata": {},
   "outputs": [],
   "source": [
    "# the pose, velocity, and angular velocity of the quadcopter at the end of the episode\n",
    "print(task.sim.pose)\n",
    "print(task.sim.v)\n",
    "print(task.sim.angular_v)"
   ]
  },
  {
   "cell_type": "markdown",
   "metadata": {},
   "source": [
    "In the sample task in `task.py`, we use the 6-dimensional pose of the quadcopter to construct the state of the environment at each timestep.  However, when amending the task for your purposes, you are welcome to expand the size of the state vector by including the velocity information.  You can use any combination of the pose, velocity, and angular velocity - feel free to tinker here, and construct the state to suit your task.\n",
    "\n",
    "## The Task\n",
    "\n",
    "A sample task has been provided for you in `task.py`.  Open this file in a new window now. \n",
    "\n",
    "The `__init__()` method is used to initialize several variables that are needed to specify the task.  \n",
    "- The simulator is initialized as an instance of the `PhysicsSim` class (from `physics_sim.py`).  \n",
    "- Inspired by the methodology in the original DDPG paper, we make use of action repeats.  For each timestep of the agent, we step the simulation `action_repeats` timesteps.  If you are not familiar with action repeats, please read the **Results** section in [the DDPG paper](https://arxiv.org/abs/1509.02971).\n",
    "- We set the number of elements in the state vector.  For the sample task, we only work with the 6-dimensional pose information.  To set the size of the state (`state_size`), we must take action repeats into account.  \n",
    "- The environment will always have a 4-dimensional action space, with one entry for each rotor (`action_size=4`). You can set the minimum (`action_low`) and maximum (`action_high`) values of each entry here.\n",
    "- The sample task in this provided file is for the agent to reach a target position.  We specify that target position as a variable.\n",
    "\n",
    "The `reset()` method resets the simulator.  The agent should call this method every time the episode ends.  You can see an example of this in the code cell below.\n",
    "\n",
    "The `step()` method is perhaps the most important.  It accepts the agent's choice of action `rotor_speeds`, which is used to prepare the next state to pass on to the agent.  Then, the reward is computed from `get_reward()`.  The episode is considered done if the time limit has been exceeded, or the quadcopter has travelled outside of the bounds of the simulation.\n",
    "\n",
    "In the next section, you will learn how to test the performance of an agent on this task."
   ]
  },
  {
   "cell_type": "markdown",
   "metadata": {},
   "source": [
    "## The Agent\n",
    "\n",
    "The sample agent given in `agents/policy_search.py` uses a very simplistic linear policy to directly compute the action vector as a dot product of the state vector and a matrix of weights. Then, it randomly perturbs the parameters by adding some Gaussian noise, to produce a different policy. Based on the average reward obtained in each episode (`score`), it keeps track of the best set of parameters found so far, how the score is changing, and accordingly tweaks a scaling factor to widen or tighten the noise.\n",
    "\n",
    "Run the code cell below to see how the agent performs on the sample task."
   ]
  },
  {
   "cell_type": "code",
   "execution_count": null,
   "metadata": {},
   "outputs": [],
   "source": [
    "### POLICY SEARCH AGENT ###\n",
    "\n",
    "num_episodes = 100\n",
    "runtime = 5.                                     # time limit of the episode\n",
    "init_pose = np.array([0., 0., 0., 0., 0., 0.])  # initial pose\n",
    "target_pos = np.array([0., 0., 100.])\n",
    "task = Takeoff(init_pose=init_pose, target_pos=target_pos)\n",
    "agent = PolicySearch_Agent(task) \n",
    "\n",
    "for i_episode in range(1, num_episodes+1):\n",
    "    state = agent.reset_episode() # start a new episode\n",
    "    while True:\n",
    "        action = agent.act(state) \n",
    "        next_state, reward, done = task.step(action)\n",
    "        agent.step(reward, done)\n",
    "        state = next_state\n",
    "        if done:\n",
    "            print(\"\\rEpisode = {:4d}, score = {:7.3f} (best = {:7.3f}), noise_scale = {}\".format(\n",
    "                i_episode, agent.score, agent.best_score, agent.noise_scale), end=\"\")  # [debug]\n",
    "            break\n",
    "    sys.stdout.flush()"
   ]
  },
  {
   "cell_type": "markdown",
   "metadata": {},
   "source": [
    "This agent should perform very poorly on this task.  And that's where you come in!"
   ]
  },
  {
   "cell_type": "code",
   "execution_count": null,
   "metadata": {},
   "outputs": [],
   "source": [
    "### POLICY SEARCH AGENT ###\n",
    "\n",
    "file_output = 'plolicy_search_agent_data.txt'                    # file name for saved results\n",
    "\n",
    "# Setup\n",
    "target_pos = np.array([0., 0., 10.])\n",
    "task = Task(target_pos=target_pos)\n",
    "agent = PolicySearch_Agent(task) \n",
    "experiment(agent, file_output)"
   ]
  },
  {
   "cell_type": "markdown",
   "metadata": {
    "collapsed": true
   },
   "source": [
    "## Define the Task, Design the Agent, and Train Your Agent!\n",
    "\n",
    "Amend `task.py` to specify a task of your choosing.  If you're unsure what kind of task to specify, you may like to teach your quadcopter to takeoff, hover in place, land softly, or reach a target pose.  \n",
    "\n",
    "After specifying your task, use the sample agent in `agents/policy_search.py` as a template to define your own agent in `agents/agent.py`.  You can borrow whatever you need from the sample agent, including ideas on how you might modularize your code (using helper methods like `act()`, `learn()`, `reset_episode()`, etc.).\n",
    "\n",
    "Note that it is **highly unlikely** that the first agent and task that you specify will learn well.  You will likely have to tweak various hyperparameters and the reward function for your task until you arrive at reasonably good behavior.\n",
    "\n",
    "As you develop your agent, it's important to keep an eye on how it's performing. Use the code above as inspiration to build in a mechanism to log/save the total rewards obtained in each episode to file.  If the episode rewards are gradually increasing, this is an indication that your agent is learning."
   ]
  },
  {
   "cell_type": "code",
   "execution_count": null,
   "metadata": {},
   "outputs": [],
   "source": [
    "# UNDERSTANDING ORNSTEIN UHLENBECK NOISE #\n",
    "from agents.ounoise import OUNoise\n",
    "\n",
    "def plot_noise_process():\n",
    "    %matplotlib inline\n",
    "    # Noise process\n",
    "    action_size = 1\n",
    "    mu = 0.0\n",
    "    theta = 0.15\n",
    "    sigma = 10\n",
    "    noise_gen = OUNoise(action_size, mu, theta, sigma)\n",
    "\n",
    "    noise = [noise_gen.sample() for _ in range(250)]\n",
    "\n",
    "    plt.plot(noise)\n",
    "    plt.show()\n",
    "    \n",
    "#plot_noise_process()"
   ]
  },
  {
   "cell_type": "code",
   "execution_count": null,
   "metadata": {},
   "outputs": [],
   "source": [
    "# IMPORT\n",
    "%load_ext autoreload\n",
    "%autoreload 2\n",
    "\n",
    "import autoreload\n",
    "import sys, csv, time, random\n",
    "import numpy as np\n",
    "import pandas as pd\n",
    "import matplotlib.pyplot as plt\n",
    "\n",
    "%matplotlib notebook\n",
    "\n",
    "from agents.ddpg_agent import DDPG\n",
    "from agents.ounoise import OUNoise\n",
    "from agents.replay_buffer import ReplayBuffer\n",
    "from tasks.task import Task\n",
    "from tasks.takeoff import Takeoff\n",
    "import utility"
   ]
  },
  {
   "cell_type": "code",
   "execution_count": null,
   "metadata": {},
   "outputs": [],
   "source": [
    "### DDPG AGENT ###\n",
    "\n",
    "num_episodes = 150 #150 #1000\n",
    "\n",
    "# Modify the values below to give the quadcopter a different starting position.\n",
    "runtime = 5.                                     # time limit of the episode\n",
    "init_pose = np.array([0., 0., 0., 0., 0., 0.])  # initial pose\n",
    "init_velocities = np.array([0., 0., 0.])         # initial velocities\n",
    "init_angle_velocities = np.array([0., 0., 0.])   # initial angle velocities\n",
    "file_output = 'my_data.txt'                      # file name for saved results\n",
    "\n",
    "target_pos = np.array([0., 0., 100.])\n",
    "\n",
    "task = Takeoff(init_pose=init_pose, target_pos=target_pos) # , reward_func=reward_emphasize_z\n",
    "print(\"action-size: \",task.action_size)\n",
    "print(\"state-size: \",task.state_size)\n",
    "agent = DDPG(task)\n",
    "\n",
    "# Noise process\n",
    "mu = 0.0\n",
    "theta = 0.05\n",
    "sigma = 0.01\n",
    "agent.noise = OUNoise(agent.action_size, mu, theta, sigma)\n",
    "\n",
    "# Replay memory\n",
    "buffer_size = 100000\n",
    "batch_size = 128\n",
    "agent.batch_size = batch_size\n",
    "agent.buffer_size = buffer_size\n",
    "agent.memory = ReplayBuffer(buffer_size, batch_size)\n",
    "\n",
    "# Algorithm parameters\n",
    "agent.gamma = 0.99  # discount factor\n",
    "agent.tau = 0.01  # for soft update of target parameters"
   ]
  },
  {
   "cell_type": "code",
   "execution_count": null,
   "metadata": {
    "scrolled": true
   },
   "outputs": [],
   "source": [
    "# Output file logging\n",
    "labels = ['episode',  'x', 'y', 'z', 'score', 'action']\n",
    "results = {x : [] for x in labels}\n",
    "\n",
    "#general config\n",
    "display_graph = True\n",
    "display_freq = 1\n",
    "\n",
    "%matplotlib notebook\n",
    "\n",
    "fig1, fig2, sub1, sub2 = utility.createPlot(num_episodes)\n",
    "xs, ys1, ys2 = [], [], []\n",
    "\n",
    "# Run the simulation, and save the results.\n",
    "with open(file_output, 'w') as csvfile:\n",
    "    writer = csv.writer(csvfile)\n",
    "    writer.writerow(labels)\n",
    "    for i_episode in range(1, num_episodes+1):\n",
    "        state = agent.reset_episode() # start a new episode\n",
    "        while True:\n",
    "            action = agent.act(state) \n",
    "            next_state, reward, done = task.step(action)\n",
    "            #print('z={:3.2f}, v_z={:3.2f}, reward={:3.2f}'.format(task.sim.pose[2], task.sim.v[2], reward))\n",
    "            agent.step(action, reward, next_state, done)\n",
    "            state = next_state\n",
    "            \n",
    "            if done:\n",
    "                # Write episode stats\n",
    "                to_write = [i_episode] + list(task.sim.pose[:3]) + [reward] + [action]\n",
    "                for ii in range(len(labels)):\n",
    "                    results[labels[ii]].append(to_write[ii])\n",
    "                writer.writerow(to_write)\n",
    "                    \n",
    "                print(\"\\rEpisode = {:4d}, sim.v[2] = {:7.3f}, reward = {:7.3f}, action = {}, z={:3.3f}\".format(\n",
    "                    i_episode, task.sim.v[2], reward, action, task.sim.pose[2]), end=\"\")  # [debug]\n",
    "                \n",
    "                if (i_episode % display_freq == 0) and display_graph:\n",
    "                    xs.append(i_episode)\n",
    "                    ys1.append(reward)\n",
    "                    ys2.append(task.sim.pose[2])\n",
    "                    utility.plt_dynamic(fig1, fig2, xs, ys1, sub1, ys2, sub2)\n",
    "                break\n",
    "        sys.stdout.flush()\n",
    "        utility.plt_dynamic(fig1, fig2, xs, ys1, sub1, ys2, sub2)\n",
    "        \n",
    "## NB: THERE ARE TWO PLOTS BELOW\n",
    "# First: Plotting reward of the last step of every episode vs. i_episode\n",
    "# Second: Plotting z-Position of the last step of every episode vs. i_episode"
   ]
  },
  {
   "cell_type": "code",
   "execution_count": 20,
   "metadata": {},
   "outputs": [
    {
     "name": "stdout",
     "output_type": "stream",
     "text": [
      "The autoreload extension is already loaded. To reload it, use:\n",
      "  %reload_ext autoreload\n",
      "\n",
      "Episode=  10, score=-1614.812, (best=-539.500), reward=-59.66, penalty=159.66, pos=-0.32 0.14 0.0, v=-1.92 0.45 -1.79\n",
      "Episode=  20, score=-539.500, (best=-539.500), reward=-59.83, penalty=159.83, pos=0.03 0.01 0.0, v=0.45 0.0 -0.88\n",
      "Episode=  30, score=-359.883, (best=-359.883), reward=-59.91, penalty=159.91, pos=-0.02 -0.0 0.0, v=-0.11 -0.01 -0.44\n",
      "Episode=  40, score=-179.847, (best=-179.839), reward=-59.91, penalty=159.91, pos=0.0 -0.0 0.0, v=-0.08 -0.0 -0.48\n",
      "Episode=  50, score=-179.948, (best=-179.836), reward=-59.95, penalty=159.95, pos=0.01 0.0 0.0, v=0.3 0.03 -0.24\n",
      "Episode=  60, score=-179.808, (best=-179.802), reward=-59.88, penalty=159.88, pos=0.0 -0.0 0.0, v=0.16 -0.06 -0.6\n",
      "Episode=  70, score=-179.874, (best=-179.798), reward=-59.9, penalty=159.9, pos=-0.01 -0.0 0.0, v=-0.11 -0.02 -0.53\n",
      "Episode=  80, score=-179.778, (best=-179.778), reward=-59.84, penalty=159.84, pos=-0.0 -0.0 0.0, v=-0.05 -0.0 -0.81\n",
      "Episode=  90, score=-179.950, (best=-179.778), reward=-59.97, penalty=159.97, pos=0.01 0.0 0.0, v=0.39 0.0 -0.18\n",
      "Episode= 100, score=-179.874, (best=-179.778), reward=-59.93, penalty=159.93, pos=-0.01 0.0 0.0, v=-0.29 0.0 -0.37\n",
      "Episode= 110, score=-359.795, (best=-179.778), reward=-59.87, penalty=159.87, pos=-0.01 0.0 0.0, v=-0.35 -0.0 -0.71\n",
      "Episode= 120, score=-179.950, (best=-179.778), reward=-59.93, penalty=159.93, pos=-0.0 -0.0 0.0, v=-0.2 -0.0 -0.37\n",
      "Episode= 130, score=-179.959, (best=-179.778), reward=-59.94, penalty=159.94, pos=-0.0 -0.0 0.0, v=-0.22 -0.0 -0.34\n",
      "Episode= 140, score=-179.959, (best=-179.778), reward=-59.97, penalty=159.97, pos=0.01 0.0 0.0, v=0.44 0.0 -0.19\n",
      "Episode= 150, score=-179.828, (best=-179.778), reward=-59.89, penalty=159.89, pos=-0.0 -0.0 0.0, v=-0.29 -0.0 -0.56\n",
      "Episode= 160, score=-179.936, (best=-179.778), reward=-59.93, penalty=159.93, pos=-0.0 -0.0 0.0, v=-0.03 -0.0 -0.39\n",
      "Episode= 170, score=-179.938, (best=-179.778), reward=-59.96, penalty=159.96, pos=0.01 0.0 0.0, v=0.44 0.0 -0.24\n",
      "Episode= 180, score=-179.843, (best=-179.778), reward=-59.9, penalty=159.9, pos=-0.01 -0.0 0.0, v=-0.33 -0.0 -0.51\n",
      "Episode= 190, score=-179.947, (best=-179.778), reward=-59.93, penalty=159.93, pos=-0.0 0.0 0.0, v=-0.07 -0.0 -0.38\n",
      "Episode= 200, score=-179.881, (best=-179.778), reward=-59.93, penalty=159.93, pos=-0.01 -0.0 0.0, v=-0.36 0.0 -0.36"
     ]
    }
   ],
   "source": [
    "# IMPORT\n",
    "%load_ext autoreload\n",
    "%autoreload 2\n",
    "\n",
    "import autoreload\n",
    "import sys, csv, time, random\n",
    "import numpy as np\n",
    "import pandas as pd\n",
    "import matplotlib.pyplot as plt\n",
    "\n",
    "%matplotlib notebook\n",
    "\n",
    "from agents.ddpg_agent import DDPG\n",
    "from agents.ounoise import OUNoise\n",
    "from agents.replay_buffer import ReplayBuffer\n",
    "from tasks.task import Task\n",
    "from tasks.takeoff import Takeoff\n",
    "import utility\n",
    "\n",
    "num_episodes = 200\n",
    "# Take off task\n",
    "# Quadcopter stands still at the ground and has as target a height of 100 above the sarting point\n",
    "init_pos = np.array([0., 0., 0., 0., 0., 0.])\n",
    "target_pos = np.array([0., 0., 100.])\n",
    "\n",
    "\n",
    "task = Task(init_pose=init_pos, target_pos=target_pos,runtime=10.)\n",
    "\n",
    "sigmas = [0.0001]\n",
    "# sigmas = [2.,0.2,0.02,0.002]\n",
    "for s in sigmas:\n",
    "    params = {}\n",
    "    params['sigma'] = s\n",
    "    agent = DDPG(task, params)\n",
    "    # save rewards for plotting\n",
    "    rewards = []\n",
    "    display_every = 10\n",
    "\n",
    "    for i_episode in range(1, num_episodes+1):\n",
    "        state = agent.reset_episode() # start a new episode\n",
    "        step = 0\n",
    "        while True:\n",
    "            step +=1\n",
    "            action = agent.act(state)\n",
    "            next_state, reward, done = task.step(action)\n",
    "            agent.step(action, reward, next_state, done)\n",
    "            state = next_state\n",
    "            if done:\n",
    "                rewards.append(agent.score)\n",
    "                if(i_episode % display_every == 0):\n",
    "                    print(\"\\r\\nEpisode={:4d}, score={:7.3f}, (best={:7.3f}), reward={}, penalty={}, pos={} {} {}, v={} {} {}\".format(\n",
    "                        i_episode,\n",
    "                        agent.score,\n",
    "                        agent.best_score,\n",
    "                        round(task.reward,2),\n",
    "                        round(task.penalties,2),\n",
    "                        round(task.sim.pose[:3][0],2),\n",
    "                        round(task.sim.pose[:3][1],2),\n",
    "                        round(task.sim.pose[:3][2],2),\n",
    "                        round(task.sim.v[0],2),\n",
    "                        round(task.sim.v[1],2),\n",
    "                        round(task.sim.v[2],2)), end=\"\")  # [debug]\n",
    "                    sys.stdout.flush()\n",
    "                break\n",
    "        sys.stdout.flush()"
   ]
  },
  {
   "cell_type": "markdown",
   "metadata": {},
   "source": [
    "## Plot the Rewards\n",
    "\n",
    "Once you are satisfied with your performance, plot the episode rewards, either from a single run, or averaged over multiple runs. "
   ]
  },
  {
   "cell_type": "code",
   "execution_count": 12,
   "metadata": {},
   "outputs": [
    {
     "name": "stdout",
     "output_type": "stream",
     "text": [
      "final_reward:  257.93611660124685\n"
     ]
    },
    {
     "data": {
      "image/png": "[encoded data removed]",
      "text/plain": [
       "<Figure size 432x288 with 1 Axes>"
      ]
     },
     "metadata": {},
     "output_type": "display_data"
    },
    {
     "data": {
      "image/png": "[encoded data removed]",
      "text/plain": [
       "<Figure size 1080x1080 with 6 Axes>"
      ]
     },
     "metadata": {},
     "output_type": "display_data"
    }
   ],
   "source": [
    "# Single Episode Evaluation #\n",
    "%matplotlib inline\n",
    "\n",
    "file_name = \"ddpg_data_episode.txt\"\n",
    "done = False\n",
    "\n",
    "results = utility.log_run(agent, file_name)\n",
    "utility.plot_z_n_reward(results)\n",
    "utility.plot_run(results)"
   ]
  },
  {
   "cell_type": "markdown",
   "metadata": {
    "collapsed": true
   },
   "source": [
    "## Reflections\n",
    "\n",
    "**Question 1**: Describe the task that you specified in `task.py`.  How did you design the reward function?\n",
    "\n",
    "**Answer**:"
   ]
  },
  {
   "cell_type": "markdown",
   "metadata": {},
   "source": [
    "**Question 2**: Discuss your agent briefly, using the following questions as a guide:\n",
    "\n",
    "- What learning algorithm(s) did you try? What worked best for you?\n",
    "- What was your final choice of hyperparameters (such as $\\alpha$, $\\gamma$, $\\epsilon$, etc.)?\n",
    "- What neural network architecture did you use (if any)? Specify layers, sizes, activation functions, etc.\n",
    "\n",
    "**Answer**:"
   ]
  },
  {
   "cell_type": "markdown",
   "metadata": {},
   "source": [
    "**Question 3**: Using the episode rewards plot, discuss how the agent learned over time.\n",
    "\n",
    "- Was it an easy task to learn or hard?\n",
    "- Was there a gradual learning curve, or an aha moment?\n",
    "- How good was the final performance of the agent? (e.g. mean rewards over the last 10 episodes)\n",
    "\n",
    "**Answer**:"
   ]
  },
  {
   "cell_type": "markdown",
   "metadata": {},
   "source": [
    "**Question 4**: Briefly summarize your experience working on this project. You can use the following prompts for ideas.\n",
    "\n",
    "- What was the hardest part of the project? (e.g. getting started, plotting, specifying the task, etc.)\n",
    "- Did you find anything interesting in how the quadcopter or your agent behaved?\n",
    "\n",
    "**Answer**:"
   ]
  }
 ],
 "metadata": {
  "anaconda-cloud": {},
  "kernelspec": {
   "display_name": "quadcop",
   "language": "python",
   "name": "quadcop"
  },
  "language_info": {
   "codemirror_mode": {
    "name": "ipython",
    "version": 3
   },
   "file_extension": ".py",
   "mimetype": "text/x-python",
   "name": "python",
   "nbconvert_exporter": "python",
   "pygments_lexer": "ipython3",
   "version": "3.6.5"
  }
 },
 "nbformat": 4,
 "nbformat_minor": 2
}
